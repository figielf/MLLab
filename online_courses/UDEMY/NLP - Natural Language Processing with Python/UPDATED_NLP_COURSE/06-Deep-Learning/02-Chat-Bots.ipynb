{
 "cells": [
  {
   "cell_type": "markdown",
   "metadata": {},
   "source": [
    "___\n",
    "\n",
    "<a href='http://www.pieriandata.com'> <img src='../Pierian_Data_Logo.png' /></a>\n",
    "___\n",
    "# Question and Answer Chat Bots"
   ]
  },
  {
   "cell_type": "markdown",
   "metadata": {},
   "source": [
    "----\n",
    "\n",
    "------"
   ]
  },
  {
   "cell_type": "markdown",
   "metadata": {},
   "source": [
    "## Loading the Data\n",
    "\n",
    "We will be working with the Babi Data Set from Facebook Research.\n",
    "\n",
    "Full Details: https://research.fb.com/downloads/babi/\n",
    "\n",
    "- Jason Weston, Antoine Bordes, Sumit Chopra, Tomas Mikolov, Alexander M. Rush,\n",
    "  \"Towards AI-Complete Question Answering: A Set of Prerequisite Toy Tasks\",\n",
    "  http://arxiv.org/abs/1502.05698\n"
   ]
  },
  {
   "cell_type": "code",
   "execution_count": 1,
   "metadata": {},
   "outputs": [],
   "source": [
    "import pickle\n",
    "import numpy as np"
   ]
  },
  {
   "cell_type": "code",
   "execution_count": 2,
   "metadata": {},
   "outputs": [],
   "source": [
    "with open(\"train_qa.txt\", \"rb\") as fp:   # Unpickling\n",
    "    train_data =  pickle.load(fp)"
   ]
  },
  {
   "cell_type": "code",
   "execution_count": 3,
   "metadata": {},
   "outputs": [],
   "source": [
    "with open(\"test_qa.txt\", \"rb\") as fp:   # Unpickling\n",
    "    test_data =  pickle.load(fp)"
   ]
  },
  {
   "cell_type": "markdown",
   "metadata": {},
   "source": [
    "----"
   ]
  },
  {
   "cell_type": "markdown",
   "metadata": {},
   "source": [
    "## Exploring the Format of the Data"
   ]
  },
  {
   "cell_type": "code",
   "execution_count": 4,
   "metadata": {},
   "outputs": [
    {
     "data": {
      "text/plain": [
       "list"
      ]
     },
     "execution_count": 4,
     "metadata": {},
     "output_type": "execute_result"
    }
   ],
   "source": [
    "type(test_data)"
   ]
  },
  {
   "cell_type": "code",
   "execution_count": 5,
   "metadata": {},
   "outputs": [
    {
     "data": {
      "text/plain": [
       "list"
      ]
     },
     "execution_count": 5,
     "metadata": {},
     "output_type": "execute_result"
    }
   ],
   "source": [
    "type(train_data)"
   ]
  },
  {
   "cell_type": "code",
   "execution_count": 6,
   "metadata": {},
   "outputs": [
    {
     "data": {
      "text/plain": [
       "1000"
      ]
     },
     "execution_count": 6,
     "metadata": {},
     "output_type": "execute_result"
    }
   ],
   "source": [
    "len(test_data)"
   ]
  },
  {
   "cell_type": "code",
   "execution_count": 7,
   "metadata": {},
   "outputs": [
    {
     "data": {
      "text/plain": [
       "10000"
      ]
     },
     "execution_count": 7,
     "metadata": {},
     "output_type": "execute_result"
    }
   ],
   "source": [
    "len(train_data)"
   ]
  },
  {
   "cell_type": "code",
   "execution_count": 8,
   "metadata": {},
   "outputs": [
    {
     "data": {
      "text/plain": [
       "(['Mary',\n",
       "  'moved',\n",
       "  'to',\n",
       "  'the',\n",
       "  'bathroom',\n",
       "  '.',\n",
       "  'Sandra',\n",
       "  'journeyed',\n",
       "  'to',\n",
       "  'the',\n",
       "  'bedroom',\n",
       "  '.'],\n",
       " ['Is', 'Sandra', 'in', 'the', 'hallway', '?'],\n",
       " 'no')"
      ]
     },
     "execution_count": 8,
     "metadata": {},
     "output_type": "execute_result"
    }
   ],
   "source": [
    "train_data[0]"
   ]
  },
  {
   "cell_type": "code",
   "execution_count": 9,
   "metadata": {},
   "outputs": [
    {
     "data": {
      "text/plain": [
       "'Mary moved to the bathroom . Sandra journeyed to the bedroom .'"
      ]
     },
     "execution_count": 9,
     "metadata": {},
     "output_type": "execute_result"
    }
   ],
   "source": [
    "' '.join(train_data[0][0])"
   ]
  },
  {
   "cell_type": "code",
   "execution_count": 10,
   "metadata": {},
   "outputs": [
    {
     "data": {
      "text/plain": [
       "'Is Sandra in the hallway ?'"
      ]
     },
     "execution_count": 10,
     "metadata": {},
     "output_type": "execute_result"
    }
   ],
   "source": [
    "' '.join(train_data[0][1])"
   ]
  },
  {
   "cell_type": "code",
   "execution_count": 11,
   "metadata": {},
   "outputs": [
    {
     "data": {
      "text/plain": [
       "'no'"
      ]
     },
     "execution_count": 11,
     "metadata": {},
     "output_type": "execute_result"
    }
   ],
   "source": [
    "train_data[0][2]"
   ]
  },
  {
   "cell_type": "markdown",
   "metadata": {},
   "source": [
    "-----\n",
    "\n",
    "## Setting up Vocabulary of All Words"
   ]
  },
  {
   "cell_type": "code",
   "execution_count": 12,
   "metadata": {},
   "outputs": [],
   "source": [
    "# Create a set that holds the vocab words\n",
    "vocab = set()"
   ]
  },
  {
   "cell_type": "code",
   "execution_count": 13,
   "metadata": {},
   "outputs": [],
   "source": [
    "all_data = test_data + train_data"
   ]
  },
  {
   "cell_type": "code",
   "execution_count": 14,
   "metadata": {},
   "outputs": [],
   "source": [
    "for story, question , answer in all_data:\n",
    "    # In case you don't know what a union of sets is:\n",
    "    # https://www.programiz.com/python-programming/methods/set/union\n",
    "    vocab = vocab.union(set(story))\n",
    "    vocab = vocab.union(set(question))"
   ]
  },
  {
   "cell_type": "code",
   "execution_count": 15,
   "metadata": {},
   "outputs": [],
   "source": [
    "vocab.add('no')\n",
    "vocab.add('yes')"
   ]
  },
  {
   "cell_type": "code",
   "execution_count": 16,
   "metadata": {},
   "outputs": [
    {
     "data": {
      "text/plain": [
       "{'.',\n",
       " '?',\n",
       " 'Daniel',\n",
       " 'Is',\n",
       " 'John',\n",
       " 'Mary',\n",
       " 'Sandra',\n",
       " 'apple',\n",
       " 'back',\n",
       " 'bathroom',\n",
       " 'bedroom',\n",
       " 'discarded',\n",
       " 'down',\n",
       " 'dropped',\n",
       " 'football',\n",
       " 'garden',\n",
       " 'got',\n",
       " 'grabbed',\n",
       " 'hallway',\n",
       " 'in',\n",
       " 'journeyed',\n",
       " 'kitchen',\n",
       " 'left',\n",
       " 'milk',\n",
       " 'moved',\n",
       " 'no',\n",
       " 'office',\n",
       " 'picked',\n",
       " 'put',\n",
       " 'the',\n",
       " 'there',\n",
       " 'to',\n",
       " 'took',\n",
       " 'travelled',\n",
       " 'up',\n",
       " 'went',\n",
       " 'yes'}"
      ]
     },
     "execution_count": 16,
     "metadata": {},
     "output_type": "execute_result"
    }
   ],
   "source": [
    "vocab"
   ]
  },
  {
   "cell_type": "code",
   "execution_count": 18,
   "metadata": {},
   "outputs": [
    {
     "data": {
      "text/plain": [
       "38"
      ]
     },
     "execution_count": 18,
     "metadata": {},
     "output_type": "execute_result"
    }
   ],
   "source": [
    "vocab_len = len(vocab) + 1 #we add an extra space to hold a 0 for Keras's pad_sequences\n",
    "vocab_len"
   ]
  },
  {
   "cell_type": "code",
   "execution_count": 19,
   "metadata": {},
   "outputs": [],
   "source": [
    "max_story_len = max([len(data[0]) for data in all_data])"
   ]
  },
  {
   "cell_type": "code",
   "execution_count": 20,
   "metadata": {},
   "outputs": [
    {
     "data": {
      "text/plain": [
       "156"
      ]
     },
     "execution_count": 20,
     "metadata": {},
     "output_type": "execute_result"
    }
   ],
   "source": [
    "max_story_len"
   ]
  },
  {
   "cell_type": "code",
   "execution_count": 21,
   "metadata": {},
   "outputs": [],
   "source": [
    "max_question_len = max([len(data[1]) for data in all_data])"
   ]
  },
  {
   "cell_type": "code",
   "execution_count": 22,
   "metadata": {},
   "outputs": [
    {
     "data": {
      "text/plain": [
       "6"
      ]
     },
     "execution_count": 22,
     "metadata": {},
     "output_type": "execute_result"
    }
   ],
   "source": [
    "max_question_len"
   ]
  },
  {
   "cell_type": "markdown",
   "metadata": {},
   "source": [
    "## Vectorizing the Data"
   ]
  },
  {
   "cell_type": "code",
   "execution_count": 23,
   "metadata": {},
   "outputs": [
    {
     "data": {
      "text/plain": [
       "{'.',\n",
       " '?',\n",
       " 'Daniel',\n",
       " 'Is',\n",
       " 'John',\n",
       " 'Mary',\n",
       " 'Sandra',\n",
       " 'apple',\n",
       " 'back',\n",
       " 'bathroom',\n",
       " 'bedroom',\n",
       " 'discarded',\n",
       " 'down',\n",
       " 'dropped',\n",
       " 'football',\n",
       " 'garden',\n",
       " 'got',\n",
       " 'grabbed',\n",
       " 'hallway',\n",
       " 'in',\n",
       " 'journeyed',\n",
       " 'kitchen',\n",
       " 'left',\n",
       " 'milk',\n",
       " 'moved',\n",
       " 'no',\n",
       " 'office',\n",
       " 'picked',\n",
       " 'put',\n",
       " 'the',\n",
       " 'there',\n",
       " 'to',\n",
       " 'took',\n",
       " 'travelled',\n",
       " 'up',\n",
       " 'went',\n",
       " 'yes'}"
      ]
     },
     "execution_count": 23,
     "metadata": {},
     "output_type": "execute_result"
    }
   ],
   "source": [
    "vocab"
   ]
  },
  {
   "cell_type": "code",
   "execution_count": 25,
   "metadata": {},
   "outputs": [
    {
     "data": {
      "text/plain": [
       "38"
      ]
     },
     "execution_count": 25,
     "metadata": {},
     "output_type": "execute_result"
    }
   ],
   "source": [
    "# Reserve 0 for pad_sequences\n",
    "vocab_size = len(vocab) + 1\n",
    "vocab_size"
   ]
  },
  {
   "cell_type": "markdown",
   "metadata": {},
   "source": [
    "-----------"
   ]
  },
  {
   "cell_type": "code",
   "execution_count": 26,
   "metadata": {},
   "outputs": [],
   "source": [
    "from tensorflow.keras.preprocessing.sequence import pad_sequences\n",
    "from tensorflow.keras.preprocessing.text import Tokenizer"
   ]
  },
  {
   "cell_type": "code",
   "execution_count": 27,
   "metadata": {},
   "outputs": [],
   "source": [
    "# integer encode sequences of words\n",
    "tokenizer = Tokenizer(filters=[])\n",
    "tokenizer.fit_on_texts(vocab)"
   ]
  },
  {
   "cell_type": "code",
   "execution_count": 26,
   "metadata": {},
   "outputs": [
    {
     "data": {
      "text/plain": [
       "{'.': 13,\n",
       " '?': 12,\n",
       " 'apple': 3,\n",
       " 'back': 18,\n",
       " 'bathroom': 23,\n",
       " 'bedroom': 29,\n",
       " 'daniel': 21,\n",
       " 'discarded': 5,\n",
       " 'down': 22,\n",
       " 'dropped': 4,\n",
       " 'football': 37,\n",
       " 'garden': 36,\n",
       " 'got': 34,\n",
       " 'grabbed': 15,\n",
       " 'hallway': 27,\n",
       " 'in': 8,\n",
       " 'is': 30,\n",
       " 'john': 10,\n",
       " 'journeyed': 35,\n",
       " 'kitchen': 11,\n",
       " 'left': 31,\n",
       " 'mary': 25,\n",
       " 'milk': 7,\n",
       " 'moved': 28,\n",
       " 'no': 6,\n",
       " 'office': 24,\n",
       " 'picked': 1,\n",
       " 'put': 33,\n",
       " 'sandra': 2,\n",
       " 'the': 32,\n",
       " 'there': 16,\n",
       " 'to': 14,\n",
       " 'took': 9,\n",
       " 'travelled': 20,\n",
       " 'up': 17,\n",
       " 'went': 26,\n",
       " 'yes': 19}"
      ]
     },
     "execution_count": 26,
     "metadata": {},
     "output_type": "execute_result"
    }
   ],
   "source": [
    "tokenizer.word_index"
   ]
  },
  {
   "cell_type": "code",
   "execution_count": 28,
   "metadata": {},
   "outputs": [],
   "source": [
    "train_story_text = []\n",
    "train_question_text = []\n",
    "train_answers = []\n",
    "\n",
    "for story,question,answer in train_data:\n",
    "    train_story_text.append(story)\n",
    "    train_question_text.append(question)"
   ]
  },
  {
   "cell_type": "code",
   "execution_count": 29,
   "metadata": {},
   "outputs": [],
   "source": [
    "train_story_seq = tokenizer.texts_to_sequences(train_story_text)"
   ]
  },
  {
   "cell_type": "code",
   "execution_count": 30,
   "metadata": {},
   "outputs": [
    {
     "data": {
      "text/plain": [
       "10000"
      ]
     },
     "execution_count": 30,
     "metadata": {},
     "output_type": "execute_result"
    }
   ],
   "source": [
    "len(train_story_text)"
   ]
  },
  {
   "cell_type": "code",
   "execution_count": 31,
   "metadata": {},
   "outputs": [
    {
     "data": {
      "text/plain": [
       "10000"
      ]
     },
     "execution_count": 31,
     "metadata": {},
     "output_type": "execute_result"
    }
   ],
   "source": [
    "len(train_story_seq)"
   ]
  },
  {
   "cell_type": "code",
   "execution_count": 32,
   "metadata": {},
   "outputs": [],
   "source": [
    "# word_index = tokenizer.word_index"
   ]
  },
  {
   "cell_type": "markdown",
   "metadata": {},
   "source": [
    "### Functionalize Vectorization"
   ]
  },
  {
   "cell_type": "code",
   "execution_count": 33,
   "metadata": {},
   "outputs": [],
   "source": [
    "def vectorize_stories(data, word_index=tokenizer.word_index, max_story_len=max_story_len,max_question_len=max_question_len):\n",
    "    '''\n",
    "    INPUT: \n",
    "    \n",
    "    data: consisting of Stories,Queries,and Answers\n",
    "    word_index: word index dictionary from tokenizer\n",
    "    max_story_len: the length of the longest story (used for pad_sequences function)\n",
    "    max_question_len: length of the longest question (used for pad_sequences function)\n",
    "\n",
    "\n",
    "    OUTPUT:\n",
    "    \n",
    "    Vectorizes the stories,questions, and answers into padded sequences. We first loop for every story, query , and\n",
    "    answer in the data. Then we convert the raw words to an word index value. Then we append each set to their appropriate\n",
    "    output list. Then once we have converted the words to numbers, we pad the sequences so they are all of equal length.\n",
    "    \n",
    "    Returns this in the form of a tuple (X,Xq,Y) (padded based on max lengths)\n",
    "    '''\n",
    "    \n",
    "    \n",
    "    # X = STORIES\n",
    "    X = []\n",
    "    # Xq = QUERY/QUESTION\n",
    "    Xq = []\n",
    "    # Y = CORRECT ANSWER\n",
    "    Y = []\n",
    "    \n",
    "    \n",
    "    for story, query, answer in data:\n",
    "        \n",
    "        # Grab the word index for every word in story\n",
    "        x = [word_index[word.lower()] for word in story]\n",
    "        # Grab the word index for every word in query\n",
    "        xq = [word_index[word.lower()] for word in query]\n",
    "        \n",
    "        # Grab the Answers (either Yes/No so we don't need to use list comprehension here)\n",
    "        # Index 0 is reserved so we're going to use + 1\n",
    "        y = np.zeros(len(word_index) + 1)\n",
    "        \n",
    "        # Now that y is all zeros and we know its just Yes/No , we can use numpy logic to create this assignment\n",
    "        #\n",
    "        y[word_index[answer]] = 1\n",
    "        \n",
    "        # Append each set of story,query, and answer to their respective holding lists\n",
    "        X.append(x)\n",
    "        Xq.append(xq)\n",
    "        Y.append(y)\n",
    "        \n",
    "    # Finally, pad the sequences based on their max length so the RNN can be trained on uniformly long sequences.\n",
    "        \n",
    "    # RETURN TUPLE FOR UNPACKING\n",
    "    return (pad_sequences(X, maxlen=max_story_len),pad_sequences(Xq, maxlen=max_question_len), np.array(Y))"
   ]
  },
  {
   "cell_type": "code",
   "execution_count": 34,
   "metadata": {},
   "outputs": [],
   "source": [
    "inputs_train, queries_train, answers_train = vectorize_stories(train_data)"
   ]
  },
  {
   "cell_type": "code",
   "execution_count": 35,
   "metadata": {},
   "outputs": [],
   "source": [
    "inputs_test, queries_test, answers_test = vectorize_stories(test_data)"
   ]
  },
  {
   "cell_type": "code",
   "execution_count": 36,
   "metadata": {},
   "outputs": [
    {
     "data": {
      "text/plain": [
       "array([[ 0,  0,  0, ..., 18,  1, 12],\n",
       "       [ 0,  0,  0, ..., 18,  8, 12],\n",
       "       [ 0,  0,  0, ..., 18,  8, 12],\n",
       "       ...,\n",
       "       [ 0,  0,  0, ..., 18, 23, 12],\n",
       "       [ 0,  0,  0, ..., 18,  8, 12],\n",
       "       [ 0,  0,  0, ..., 23, 34, 12]])"
      ]
     },
     "execution_count": 36,
     "metadata": {},
     "output_type": "execute_result"
    }
   ],
   "source": [
    "inputs_test"
   ]
  },
  {
   "cell_type": "code",
   "execution_count": 37,
   "metadata": {},
   "outputs": [
    {
     "data": {
      "text/plain": [
       "array([[ 4,  3, 32, 18, 33, 22],\n",
       "       [ 4,  3, 32, 18, 33, 22],\n",
       "       [ 4,  3, 32, 18,  8, 22],\n",
       "       ...,\n",
       "       [ 4, 10, 32, 18,  1, 22],\n",
       "       [ 4, 28, 32, 18,  8, 22],\n",
       "       [ 4, 10, 32, 18,  8, 22]])"
      ]
     },
     "execution_count": 37,
     "metadata": {},
     "output_type": "execute_result"
    }
   ],
   "source": [
    "queries_test"
   ]
  },
  {
   "cell_type": "code",
   "execution_count": 38,
   "metadata": {},
   "outputs": [
    {
     "data": {
      "text/plain": [
       "array([[0., 0., 0., ..., 0., 0., 0.],\n",
       "       [0., 0., 0., ..., 0., 0., 0.],\n",
       "       [0., 0., 0., ..., 0., 0., 0.],\n",
       "       ...,\n",
       "       [0., 0., 0., ..., 0., 0., 0.],\n",
       "       [0., 0., 0., ..., 0., 0., 0.],\n",
       "       [0., 0., 0., ..., 0., 0., 0.]])"
      ]
     },
     "execution_count": 38,
     "metadata": {},
     "output_type": "execute_result"
    }
   ],
   "source": [
    "answers_test"
   ]
  },
  {
   "cell_type": "code",
   "execution_count": 39,
   "metadata": {},
   "outputs": [
    {
     "data": {
      "text/plain": [
       "array([  0.,   0.,   0.,   0.,   0.,   0., 503.,   0.,   0.,   0.,   0.,\n",
       "         0.,   0.,   0.,   0.,   0.,   0.,   0.,   0.,   0.,   0.,   0.,\n",
       "         0.,   0.,   0.,   0.,   0.,   0.,   0., 497.,   0.,   0.,   0.,\n",
       "         0.,   0.,   0.,   0.,   0.])"
      ]
     },
     "execution_count": 39,
     "metadata": {},
     "output_type": "execute_result"
    }
   ],
   "source": [
    "sum(answers_test)"
   ]
  },
  {
   "cell_type": "code",
   "execution_count": 40,
   "metadata": {},
   "outputs": [
    {
     "data": {
      "text/plain": [
       "29"
      ]
     },
     "execution_count": 40,
     "metadata": {},
     "output_type": "execute_result"
    }
   ],
   "source": [
    "tokenizer.word_index['yes']"
   ]
  },
  {
   "cell_type": "code",
   "execution_count": 41,
   "metadata": {},
   "outputs": [
    {
     "data": {
      "text/plain": [
       "6"
      ]
     },
     "execution_count": 41,
     "metadata": {},
     "output_type": "execute_result"
    }
   ],
   "source": [
    "tokenizer.word_index['no']"
   ]
  },
  {
   "cell_type": "markdown",
   "metadata": {},
   "source": [
    "## Creating the Model"
   ]
  },
  {
   "cell_type": "code",
   "execution_count": 43,
   "metadata": {},
   "outputs": [],
   "source": [
    "from tensorflow.keras.models import Sequential, Model\n",
    "from tensorflow.keras.layers import Embedding\n",
    "from tensorflow.keras.layers import Input, Activation, Dense, Permute, Dropout\n",
    "from tensorflow.keras.layers import add, dot, concatenate\n",
    "from tensorflow.keras.layers import LSTM"
   ]
  },
  {
   "cell_type": "markdown",
   "metadata": {},
   "source": [
    "### Placeholders for Inputs\n",
    "\n",
    "Recall we technically have two inputs, stories and questions. So we need to use placeholders. `Input()` is used to instantiate a Keras tensor.\n"
   ]
  },
  {
   "cell_type": "code",
   "execution_count": 44,
   "metadata": {},
   "outputs": [],
   "source": [
    "input_sequence = Input((max_story_len,))\n",
    "question = Input((max_question_len,))"
   ]
  },
  {
   "cell_type": "markdown",
   "metadata": {
    "collapsed": true
   },
   "source": [
    "### Building the Networks\n",
    "\n",
    "To understand why we chose this setup, make sure to read the paper we are using:\n",
    "\n",
    "* Sainbayar Sukhbaatar, Arthur Szlam, Jason Weston, Rob Fergus,\n",
    "  \"End-To-End Memory Networks\",\n",
    "  http://arxiv.org/abs/1503.08895"
   ]
  },
  {
   "cell_type": "markdown",
   "metadata": {},
   "source": [
    "## Encoders\n",
    "\n",
    "### Input Encoder m"
   ]
  },
  {
   "cell_type": "code",
   "execution_count": 46,
   "metadata": {},
   "outputs": [],
   "source": [
    "# Input gets embedded to a sequence of vectors\n",
    "input_encoder_m = Sequential()\n",
    "input_encoder_m.add(Embedding(input_dim=vocab_size,output_dim=64))\n",
    "input_encoder_m.add(Dropout(0.3))\n",
    "\n",
    "# This encoder will output:\n",
    "# (samples, story_maxlen, embedding_dim)"
   ]
  },
  {
   "cell_type": "markdown",
   "metadata": {},
   "source": [
    "### Input Encoder c"
   ]
  },
  {
   "cell_type": "code",
   "execution_count": 47,
   "metadata": {},
   "outputs": [],
   "source": [
    "# embed the input into a sequence of vectors of size query_maxlen\n",
    "input_encoder_c = Sequential()\n",
    "input_encoder_c.add(Embedding(input_dim=vocab_size,output_dim=max_question_len))\n",
    "input_encoder_c.add(Dropout(0.3))\n",
    "# output: (samples, story_maxlen, query_maxlen)"
   ]
  },
  {
   "cell_type": "markdown",
   "metadata": {},
   "source": [
    "### Question Encoder"
   ]
  },
  {
   "cell_type": "code",
   "execution_count": 48,
   "metadata": {},
   "outputs": [],
   "source": [
    "# embed the question into a sequence of vectors\n",
    "question_encoder = Sequential()\n",
    "question_encoder.add(Embedding(input_dim=vocab_size,\n",
    "                               output_dim=64,\n",
    "                               input_length=max_question_len))\n",
    "question_encoder.add(Dropout(0.3))\n",
    "# output: (samples, query_maxlen, embedding_dim)"
   ]
  },
  {
   "cell_type": "markdown",
   "metadata": {},
   "source": [
    "### Encode the Sequences"
   ]
  },
  {
   "cell_type": "code",
   "execution_count": 49,
   "metadata": {},
   "outputs": [],
   "source": [
    "# encode input sequence and questions (which are indices)\n",
    "# to sequences of dense vectors\n",
    "input_encoded_m = input_encoder_m(input_sequence)\n",
    "input_encoded_c = input_encoder_c(input_sequence)\n",
    "question_encoded = question_encoder(question)"
   ]
  },
  {
   "cell_type": "markdown",
   "metadata": {},
   "source": [
    "##### Use dot product to compute the match between first input vector seq and the query"
   ]
  },
  {
   "cell_type": "code",
   "execution_count": 50,
   "metadata": {},
   "outputs": [],
   "source": [
    "# shape: `(samples, story_maxlen, query_maxlen)`\n",
    "match = dot([input_encoded_m, question_encoded], axes=(2, 2))\n",
    "match = Activation('softmax')(match)"
   ]
  },
  {
   "cell_type": "markdown",
   "metadata": {},
   "source": [
    "#### Add this match matrix with the second input vector sequence"
   ]
  },
  {
   "cell_type": "code",
   "execution_count": 51,
   "metadata": {},
   "outputs": [],
   "source": [
    "# add the match matrix with the second input vector sequence\n",
    "response = add([match, input_encoded_c])  # (samples, story_maxlen, query_maxlen)\n",
    "response = Permute((2, 1))(response)  # (samples, query_maxlen, story_maxlen)"
   ]
  },
  {
   "cell_type": "markdown",
   "metadata": {},
   "source": [
    "#### Concatenate"
   ]
  },
  {
   "cell_type": "code",
   "execution_count": 52,
   "metadata": {},
   "outputs": [],
   "source": [
    "# concatenate the match matrix with the question vector sequence\n",
    "answer = concatenate([response, question_encoded])"
   ]
  },
  {
   "cell_type": "code",
   "execution_count": 53,
   "metadata": {},
   "outputs": [
    {
     "data": {
      "text/plain": [
       "<KerasTensor: shape=(None, 6, 220) dtype=float32 (created by layer 'concatenate')>"
      ]
     },
     "execution_count": 53,
     "metadata": {},
     "output_type": "execute_result"
    }
   ],
   "source": [
    "answer"
   ]
  },
  {
   "cell_type": "code",
   "execution_count": 54,
   "metadata": {},
   "outputs": [],
   "source": [
    "# Reduce with RNN (LSTM)\n",
    "answer = LSTM(32)(answer)  # (samples, 32)"
   ]
  },
  {
   "cell_type": "code",
   "execution_count": 55,
   "metadata": {},
   "outputs": [],
   "source": [
    "# Regularization with Dropout\n",
    "answer = Dropout(0.5)(answer)\n",
    "answer = Dense(vocab_size)(answer)  # (samples, vocab_size)"
   ]
  },
  {
   "cell_type": "code",
   "execution_count": 56,
   "metadata": {},
   "outputs": [],
   "source": [
    "# we output a probability distribution over the vocabulary\n",
    "answer = Activation('softmax')(answer)\n",
    "\n",
    "# build the final model\n",
    "model = Model([input_sequence, question], answer)\n",
    "model.compile(optimizer='rmsprop', loss='categorical_crossentropy',\n",
    "              metrics=['accuracy'])"
   ]
  },
  {
   "cell_type": "code",
   "execution_count": 57,
   "metadata": {},
   "outputs": [
    {
     "name": "stdout",
     "output_type": "stream",
     "text": [
      "Model: \"model\"\n",
      "__________________________________________________________________________________________________\n",
      " Layer (type)                   Output Shape         Param #     Connected to                     \n",
      "==================================================================================================\n",
      " input_1 (InputLayer)           [(None, 156)]        0           []                               \n",
      "                                                                                                  \n",
      " input_2 (InputLayer)           [(None, 6)]          0           []                               \n",
      "                                                                                                  \n",
      " sequential_1 (Sequential)      (None, None, 64)     2432        ['input_1[0][0]']                \n",
      "                                                                                                  \n",
      " sequential_3 (Sequential)      (None, 6, 64)        2432        ['input_2[0][0]']                \n",
      "                                                                                                  \n",
      " dot (Dot)                      (None, 156, 6)       0           ['sequential_1[0][0]',           \n",
      "                                                                  'sequential_3[0][0]']           \n",
      "                                                                                                  \n",
      " activation (Activation)        (None, 156, 6)       0           ['dot[0][0]']                    \n",
      "                                                                                                  \n",
      " sequential_2 (Sequential)      (None, None, 6)      228         ['input_1[0][0]']                \n",
      "                                                                                                  \n",
      " add (Add)                      (None, 156, 6)       0           ['activation[0][0]',             \n",
      "                                                                  'sequential_2[0][0]']           \n",
      "                                                                                                  \n",
      " permute (Permute)              (None, 6, 156)       0           ['add[0][0]']                    \n",
      "                                                                                                  \n",
      " concatenate (Concatenate)      (None, 6, 220)       0           ['permute[0][0]',                \n",
      "                                                                  'sequential_3[0][0]']           \n",
      "                                                                                                  \n",
      " lstm (LSTM)                    (None, 32)           32384       ['concatenate[0][0]']            \n",
      "                                                                                                  \n",
      " dropout_4 (Dropout)            (None, 32)           0           ['lstm[0][0]']                   \n",
      "                                                                                                  \n",
      " dense (Dense)                  (None, 38)           1254        ['dropout_4[0][0]']              \n",
      "                                                                                                  \n",
      " activation_1 (Activation)      (None, 38)           0           ['dense[0][0]']                  \n",
      "                                                                                                  \n",
      "==================================================================================================\n",
      "Total params: 38,730\n",
      "Trainable params: 38,730\n",
      "Non-trainable params: 0\n",
      "__________________________________________________________________________________________________\n"
     ]
    }
   ],
   "source": [
    "model.summary()"
   ]
  },
  {
   "cell_type": "code",
   "execution_count": 58,
   "metadata": {},
   "outputs": [
    {
     "name": "stdout",
     "output_type": "stream",
     "text": [
      "Epoch 1/120\n",
      "313/313 [==============================] - 12s 21ms/step - loss: 0.9045 - accuracy: 0.4970 - val_loss: 0.6946 - val_accuracy: 0.5030\n",
      "Epoch 2/120\n",
      "313/313 [==============================] - 6s 18ms/step - loss: 0.7043 - accuracy: 0.4996 - val_loss: 0.6933 - val_accuracy: 0.5030\n",
      "Epoch 3/120\n",
      "313/313 [==============================] - 6s 18ms/step - loss: 0.6958 - accuracy: 0.4941 - val_loss: 0.6991 - val_accuracy: 0.5030\n",
      "Epoch 4/120\n",
      "313/313 [==============================] - 6s 18ms/step - loss: 0.6949 - accuracy: 0.5032 - val_loss: 0.6939 - val_accuracy: 0.5030\n",
      "Epoch 5/120\n",
      "313/313 [==============================] - 6s 18ms/step - loss: 0.6945 - accuracy: 0.5038 - val_loss: 0.7026 - val_accuracy: 0.5030\n",
      "Epoch 6/120\n",
      "313/313 [==============================] - 6s 19ms/step - loss: 0.6945 - accuracy: 0.5028 - val_loss: 0.6945 - val_accuracy: 0.4970\n",
      "Epoch 7/120\n",
      "313/313 [==============================] - 6s 18ms/step - loss: 0.6940 - accuracy: 0.5053 - val_loss: 0.6933 - val_accuracy: 0.5030\n",
      "Epoch 8/120\n",
      "313/313 [==============================] - 5s 17ms/step - loss: 0.6943 - accuracy: 0.5069 - val_loss: 0.6953 - val_accuracy: 0.5030\n",
      "Epoch 9/120\n",
      "313/313 [==============================] - 5s 17ms/step - loss: 0.6947 - accuracy: 0.4969 - val_loss: 0.6935 - val_accuracy: 0.5030\n",
      "Epoch 10/120\n",
      "313/313 [==============================] - 6s 18ms/step - loss: 0.6945 - accuracy: 0.4952 - val_loss: 0.6957 - val_accuracy: 0.4970\n",
      "Epoch 11/120\n",
      "313/313 [==============================] - 6s 18ms/step - loss: 0.6929 - accuracy: 0.5150 - val_loss: 0.6955 - val_accuracy: 0.4790\n",
      "Epoch 12/120\n",
      "313/313 [==============================] - 6s 18ms/step - loss: 0.6884 - accuracy: 0.5273 - val_loss: 0.6888 - val_accuracy: 0.5400\n",
      "Epoch 13/120\n",
      "313/313 [==============================] - 6s 20ms/step - loss: 0.6719 - accuracy: 0.5619 - val_loss: 0.6761 - val_accuracy: 0.5520\n",
      "Epoch 14/120\n",
      "313/313 [==============================] - 8s 25ms/step - loss: 0.6497 - accuracy: 0.6065 - val_loss: 0.6416 - val_accuracy: 0.6660\n",
      "Epoch 15/120\n",
      "313/313 [==============================] - 6s 20ms/step - loss: 0.6282 - accuracy: 0.6498 - val_loss: 0.6315 - val_accuracy: 0.6650\n",
      "Epoch 16/120\n",
      "313/313 [==============================] - 8s 24ms/step - loss: 0.6160 - accuracy: 0.6650 - val_loss: 0.6346 - val_accuracy: 0.6400\n",
      "Epoch 17/120\n",
      "313/313 [==============================] - 6s 20ms/step - loss: 0.6080 - accuracy: 0.6711 - val_loss: 0.6099 - val_accuracy: 0.6720\n",
      "Epoch 18/120\n",
      "313/313 [==============================] - 7s 21ms/step - loss: 0.5965 - accuracy: 0.6875 - val_loss: 0.6042 - val_accuracy: 0.6800\n",
      "Epoch 19/120\n",
      "313/313 [==============================] - 7s 22ms/step - loss: 0.5900 - accuracy: 0.6895 - val_loss: 0.5943 - val_accuracy: 0.6770\n",
      "Epoch 20/120\n",
      "313/313 [==============================] - 7s 23ms/step - loss: 0.5801 - accuracy: 0.6985 - val_loss: 0.5792 - val_accuracy: 0.7040\n",
      "Epoch 21/120\n",
      "313/313 [==============================] - 7s 22ms/step - loss: 0.5659 - accuracy: 0.7129 - val_loss: 0.5661 - val_accuracy: 0.6940\n",
      "Epoch 22/120\n",
      "313/313 [==============================] - 6s 20ms/step - loss: 0.5434 - accuracy: 0.7342 - val_loss: 0.5119 - val_accuracy: 0.7500\n",
      "Epoch 23/120\n",
      "313/313 [==============================] - 7s 24ms/step - loss: 0.5166 - accuracy: 0.7553 - val_loss: 0.4772 - val_accuracy: 0.7830\n",
      "Epoch 24/120\n",
      "313/313 [==============================] - 6s 19ms/step - loss: 0.4910 - accuracy: 0.7735 - val_loss: 0.4591 - val_accuracy: 0.7820\n",
      "Epoch 25/120\n",
      "313/313 [==============================] - 6s 18ms/step - loss: 0.4742 - accuracy: 0.7826 - val_loss: 0.4398 - val_accuracy: 0.7930\n",
      "Epoch 26/120\n",
      "313/313 [==============================] - 6s 18ms/step - loss: 0.4526 - accuracy: 0.7946 - val_loss: 0.4306 - val_accuracy: 0.7990\n",
      "Epoch 27/120\n",
      "313/313 [==============================] - 6s 18ms/step - loss: 0.4390 - accuracy: 0.8021 - val_loss: 0.4145 - val_accuracy: 0.8000\n",
      "Epoch 28/120\n",
      "313/313 [==============================] - 5s 17ms/step - loss: 0.4318 - accuracy: 0.8058 - val_loss: 0.4034 - val_accuracy: 0.8100\n",
      "Epoch 29/120\n",
      "313/313 [==============================] - 5s 17ms/step - loss: 0.4273 - accuracy: 0.8027 - val_loss: 0.4092 - val_accuracy: 0.8060\n",
      "Epoch 30/120\n",
      "313/313 [==============================] - 5s 17ms/step - loss: 0.4156 - accuracy: 0.8154 - val_loss: 0.4151 - val_accuracy: 0.8030\n",
      "Epoch 31/120\n",
      "313/313 [==============================] - 5s 17ms/step - loss: 0.4158 - accuracy: 0.8068 - val_loss: 0.3914 - val_accuracy: 0.8130\n",
      "Epoch 32/120\n",
      "313/313 [==============================] - 6s 20ms/step - loss: 0.4088 - accuracy: 0.8107 - val_loss: 0.3888 - val_accuracy: 0.8130\n",
      "Epoch 33/120\n",
      "313/313 [==============================] - 6s 18ms/step - loss: 0.4013 - accuracy: 0.8137 - val_loss: 0.3911 - val_accuracy: 0.8120\n",
      "Epoch 34/120\n",
      "313/313 [==============================] - 5s 17ms/step - loss: 0.3925 - accuracy: 0.8176 - val_loss: 0.3886 - val_accuracy: 0.8160\n",
      "Epoch 35/120\n",
      "313/313 [==============================] - 5s 17ms/step - loss: 0.3929 - accuracy: 0.8194 - val_loss: 0.3981 - val_accuracy: 0.8090\n",
      "Epoch 36/120\n",
      "313/313 [==============================] - 5s 17ms/step - loss: 0.3760 - accuracy: 0.8285 - val_loss: 0.3846 - val_accuracy: 0.8240\n",
      "Epoch 37/120\n",
      "313/313 [==============================] - 6s 19ms/step - loss: 0.3740 - accuracy: 0.8311 - val_loss: 0.3728 - val_accuracy: 0.8220\n",
      "Epoch 38/120\n",
      "313/313 [==============================] - 8s 26ms/step - loss: 0.3722 - accuracy: 0.8288 - val_loss: 0.3896 - val_accuracy: 0.8260\n",
      "Epoch 39/120\n",
      "313/313 [==============================] - 5s 17ms/step - loss: 0.3650 - accuracy: 0.8316 - val_loss: 0.4244 - val_accuracy: 0.8040\n",
      "Epoch 40/120\n",
      "313/313 [==============================] - 5s 17ms/step - loss: 0.3619 - accuracy: 0.8365 - val_loss: 0.3586 - val_accuracy: 0.8360\n",
      "Epoch 41/120\n",
      "313/313 [==============================] - 5s 17ms/step - loss: 0.3548 - accuracy: 0.8365 - val_loss: 0.3614 - val_accuracy: 0.8300\n",
      "Epoch 42/120\n",
      "313/313 [==============================] - 5s 17ms/step - loss: 0.3533 - accuracy: 0.8376 - val_loss: 0.3775 - val_accuracy: 0.8320\n",
      "Epoch 43/120\n",
      "313/313 [==============================] - 6s 18ms/step - loss: 0.3506 - accuracy: 0.8390 - val_loss: 0.3834 - val_accuracy: 0.8290\n",
      "Epoch 44/120\n",
      "313/313 [==============================] - 6s 20ms/step - loss: 0.3491 - accuracy: 0.8384 - val_loss: 0.3792 - val_accuracy: 0.8230\n",
      "Epoch 45/120\n",
      "313/313 [==============================] - 5s 17ms/step - loss: 0.3466 - accuracy: 0.8418 - val_loss: 0.3675 - val_accuracy: 0.8330\n",
      "Epoch 46/120\n",
      "313/313 [==============================] - 6s 20ms/step - loss: 0.3476 - accuracy: 0.8422 - val_loss: 0.3685 - val_accuracy: 0.8160\n",
      "Epoch 47/120\n",
      "313/313 [==============================] - 7s 21ms/step - loss: 0.3451 - accuracy: 0.8445 - val_loss: 0.3919 - val_accuracy: 0.8120\n",
      "Epoch 48/120\n",
      "313/313 [==============================] - 6s 20ms/step - loss: 0.3341 - accuracy: 0.8485 - val_loss: 0.3828 - val_accuracy: 0.8120\n",
      "Epoch 49/120\n",
      "313/313 [==============================] - 6s 21ms/step - loss: 0.3386 - accuracy: 0.8460 - val_loss: 0.3599 - val_accuracy: 0.8300\n",
      "Epoch 50/120\n",
      "313/313 [==============================] - 6s 21ms/step - loss: 0.3312 - accuracy: 0.8452 - val_loss: 0.3777 - val_accuracy: 0.8120\n",
      "Epoch 51/120\n",
      "313/313 [==============================] - 6s 18ms/step - loss: 0.3340 - accuracy: 0.8473 - val_loss: 0.3630 - val_accuracy: 0.8330\n",
      "Epoch 52/120\n",
      "313/313 [==============================] - 6s 18ms/step - loss: 0.3302 - accuracy: 0.8510 - val_loss: 0.3673 - val_accuracy: 0.8250\n",
      "Epoch 53/120\n",
      "313/313 [==============================] - 6s 18ms/step - loss: 0.3250 - accuracy: 0.8520 - val_loss: 0.3719 - val_accuracy: 0.8320\n",
      "Epoch 54/120\n",
      "313/313 [==============================] - 6s 19ms/step - loss: 0.3267 - accuracy: 0.8501 - val_loss: 0.3592 - val_accuracy: 0.8280\n",
      "Epoch 55/120\n",
      "313/313 [==============================] - 6s 20ms/step - loss: 0.3266 - accuracy: 0.8517 - val_loss: 0.3741 - val_accuracy: 0.8210\n",
      "Epoch 56/120\n",
      "313/313 [==============================] - 7s 21ms/step - loss: 0.3238 - accuracy: 0.8517 - val_loss: 0.3908 - val_accuracy: 0.8310\n",
      "Epoch 57/120\n",
      "313/313 [==============================] - 6s 18ms/step - loss: 0.3220 - accuracy: 0.8557 - val_loss: 0.3722 - val_accuracy: 0.8270\n",
      "Epoch 58/120\n",
      "313/313 [==============================] - 6s 19ms/step - loss: 0.3172 - accuracy: 0.8572 - val_loss: 0.3582 - val_accuracy: 0.8250\n",
      "Epoch 59/120\n",
      "313/313 [==============================] - 5s 17ms/step - loss: 0.3160 - accuracy: 0.8568 - val_loss: 0.3750 - val_accuracy: 0.8310\n",
      "Epoch 60/120\n",
      "313/313 [==============================] - 6s 18ms/step - loss: 0.3197 - accuracy: 0.8560 - val_loss: 0.3587 - val_accuracy: 0.8300\n",
      "Epoch 61/120\n",
      "313/313 [==============================] - 5s 17ms/step - loss: 0.3136 - accuracy: 0.8599 - val_loss: 0.3751 - val_accuracy: 0.8280\n",
      "Epoch 62/120\n",
      "313/313 [==============================] - 5s 17ms/step - loss: 0.3082 - accuracy: 0.8608 - val_loss: 0.3746 - val_accuracy: 0.8310\n",
      "Epoch 63/120\n",
      "313/313 [==============================] - 5s 17ms/step - loss: 0.3103 - accuracy: 0.8604 - val_loss: 0.3749 - val_accuracy: 0.8330\n",
      "Epoch 64/120\n",
      "313/313 [==============================] - 5s 17ms/step - loss: 0.3150 - accuracy: 0.8593 - val_loss: 0.3726 - val_accuracy: 0.8280\n",
      "Epoch 65/120\n",
      "313/313 [==============================] - 5s 17ms/step - loss: 0.3089 - accuracy: 0.8610 - val_loss: 0.3656 - val_accuracy: 0.8250\n",
      "Epoch 66/120\n",
      "313/313 [==============================] - 5s 17ms/step - loss: 0.3067 - accuracy: 0.8636 - val_loss: 0.3682 - val_accuracy: 0.8300\n",
      "Epoch 67/120\n",
      "313/313 [==============================] - 5s 17ms/step - loss: 0.3019 - accuracy: 0.8643 - val_loss: 0.3683 - val_accuracy: 0.8280\n",
      "Epoch 68/120\n",
      "313/313 [==============================] - 5s 17ms/step - loss: 0.2997 - accuracy: 0.8663 - val_loss: 0.3885 - val_accuracy: 0.8270\n",
      "Epoch 69/120\n",
      "313/313 [==============================] - 6s 18ms/step - loss: 0.2978 - accuracy: 0.8670 - val_loss: 0.3646 - val_accuracy: 0.8280\n",
      "Epoch 70/120\n",
      "313/313 [==============================] - 6s 18ms/step - loss: 0.3028 - accuracy: 0.8639 - val_loss: 0.4187 - val_accuracy: 0.8180\n",
      "Epoch 71/120\n",
      "313/313 [==============================] - 6s 19ms/step - loss: 0.2962 - accuracy: 0.8690 - val_loss: 0.3701 - val_accuracy: 0.8210\n",
      "Epoch 72/120\n",
      "313/313 [==============================] - 6s 18ms/step - loss: 0.2877 - accuracy: 0.8683 - val_loss: 0.3875 - val_accuracy: 0.8330\n",
      "Epoch 73/120\n",
      "313/313 [==============================] - 6s 18ms/step - loss: 0.2901 - accuracy: 0.8718 - val_loss: 0.3926 - val_accuracy: 0.8250\n",
      "Epoch 74/120\n",
      "313/313 [==============================] - 6s 18ms/step - loss: 0.2877 - accuracy: 0.8712 - val_loss: 0.3832 - val_accuracy: 0.8260\n",
      "Epoch 75/120\n",
      "313/313 [==============================] - 5s 17ms/step - loss: 0.2889 - accuracy: 0.8711 - val_loss: 0.3964 - val_accuracy: 0.8310\n",
      "Epoch 76/120\n",
      "313/313 [==============================] - 5s 18ms/step - loss: 0.2866 - accuracy: 0.8749 - val_loss: 0.3797 - val_accuracy: 0.8270\n",
      "Epoch 77/120\n",
      "313/313 [==============================] - 5s 17ms/step - loss: 0.2893 - accuracy: 0.8711 - val_loss: 0.4012 - val_accuracy: 0.8230\n",
      "Epoch 78/120\n",
      "313/313 [==============================] - 5s 17ms/step - loss: 0.2776 - accuracy: 0.8787 - val_loss: 0.4090 - val_accuracy: 0.8330\n",
      "Epoch 79/120\n",
      "313/313 [==============================] - 5s 17ms/step - loss: 0.2845 - accuracy: 0.8770 - val_loss: 0.3729 - val_accuracy: 0.8250\n",
      "Epoch 80/120\n",
      "313/313 [==============================] - 6s 18ms/step - loss: 0.2841 - accuracy: 0.8788 - val_loss: 0.3893 - val_accuracy: 0.8270\n",
      "Epoch 81/120\n",
      "313/313 [==============================] - 6s 19ms/step - loss: 0.2752 - accuracy: 0.8797 - val_loss: 0.4055 - val_accuracy: 0.8310\n",
      "Epoch 82/120\n",
      "313/313 [==============================] - 8s 26ms/step - loss: 0.2794 - accuracy: 0.8765 - val_loss: 0.4302 - val_accuracy: 0.8180\n",
      "Epoch 83/120\n",
      "313/313 [==============================] - 10s 33ms/step - loss: 0.2771 - accuracy: 0.8793 - val_loss: 0.4334 - val_accuracy: 0.8190\n",
      "Epoch 84/120\n",
      "313/313 [==============================] - 7s 22ms/step - loss: 0.2667 - accuracy: 0.8823 - val_loss: 0.3853 - val_accuracy: 0.8270\n",
      "Epoch 85/120\n",
      "313/313 [==============================] - 6s 20ms/step - loss: 0.2765 - accuracy: 0.8793 - val_loss: 0.3971 - val_accuracy: 0.8240\n",
      "Epoch 86/120\n",
      "313/313 [==============================] - 6s 19ms/step - loss: 0.2775 - accuracy: 0.8787 - val_loss: 0.3969 - val_accuracy: 0.8280\n",
      "Epoch 87/120\n",
      "313/313 [==============================] - 6s 20ms/step - loss: 0.2683 - accuracy: 0.8812 - val_loss: 0.4360 - val_accuracy: 0.8210\n",
      "Epoch 88/120\n",
      "313/313 [==============================] - 5s 17ms/step - loss: 0.2686 - accuracy: 0.8843 - val_loss: 0.4103 - val_accuracy: 0.8260\n",
      "Epoch 89/120\n",
      "313/313 [==============================] - 6s 20ms/step - loss: 0.2647 - accuracy: 0.8819 - val_loss: 0.4041 - val_accuracy: 0.8270\n",
      "Epoch 90/120\n",
      "313/313 [==============================] - 5s 17ms/step - loss: 0.2556 - accuracy: 0.8872 - val_loss: 0.4191 - val_accuracy: 0.8320\n",
      "Epoch 91/120\n",
      "313/313 [==============================] - 5s 17ms/step - loss: 0.2640 - accuracy: 0.8880 - val_loss: 0.4194 - val_accuracy: 0.8270\n",
      "Epoch 92/120\n",
      "313/313 [==============================] - 6s 18ms/step - loss: 0.2618 - accuracy: 0.8883 - val_loss: 0.4034 - val_accuracy: 0.8290\n",
      "Epoch 93/120\n",
      "313/313 [==============================] - 7s 21ms/step - loss: 0.2596 - accuracy: 0.8875 - val_loss: 0.4033 - val_accuracy: 0.8250\n",
      "Epoch 94/120\n",
      "313/313 [==============================] - 6s 19ms/step - loss: 0.2581 - accuracy: 0.8890 - val_loss: 0.4022 - val_accuracy: 0.8430\n",
      "Epoch 95/120\n",
      "313/313 [==============================] - 6s 19ms/step - loss: 0.2638 - accuracy: 0.8862 - val_loss: 0.3861 - val_accuracy: 0.8410\n",
      "Epoch 96/120\n",
      "313/313 [==============================] - 7s 23ms/step - loss: 0.2553 - accuracy: 0.8871 - val_loss: 0.3957 - val_accuracy: 0.8320\n",
      "Epoch 97/120\n",
      "313/313 [==============================] - 6s 21ms/step - loss: 0.2548 - accuracy: 0.8895 - val_loss: 0.4109 - val_accuracy: 0.8310\n",
      "Epoch 98/120\n",
      "313/313 [==============================] - 7s 22ms/step - loss: 0.2532 - accuracy: 0.8944 - val_loss: 0.4153 - val_accuracy: 0.8320\n",
      "Epoch 99/120\n",
      "313/313 [==============================] - 7s 24ms/step - loss: 0.2535 - accuracy: 0.8903 - val_loss: 0.4119 - val_accuracy: 0.8270\n",
      "Epoch 100/120\n",
      "313/313 [==============================] - 7s 21ms/step - loss: 0.2558 - accuracy: 0.8887 - val_loss: 0.3841 - val_accuracy: 0.8330\n",
      "Epoch 101/120\n",
      "313/313 [==============================] - 6s 20ms/step - loss: 0.2431 - accuracy: 0.8951 - val_loss: 0.4473 - val_accuracy: 0.8230\n",
      "Epoch 102/120\n",
      "313/313 [==============================] - 6s 20ms/step - loss: 0.2456 - accuracy: 0.8928 - val_loss: 0.3956 - val_accuracy: 0.8410\n",
      "Epoch 103/120\n",
      "313/313 [==============================] - 7s 23ms/step - loss: 0.2460 - accuracy: 0.8926 - val_loss: 0.4220 - val_accuracy: 0.8380\n",
      "Epoch 104/120\n",
      "313/313 [==============================] - 6s 20ms/step - loss: 0.2466 - accuracy: 0.8923 - val_loss: 0.4107 - val_accuracy: 0.8400\n",
      "Epoch 105/120\n",
      "313/313 [==============================] - 7s 22ms/step - loss: 0.2509 - accuracy: 0.8923 - val_loss: 0.4153 - val_accuracy: 0.8330\n",
      "Epoch 106/120\n",
      "313/313 [==============================] - 6s 18ms/step - loss: 0.2440 - accuracy: 0.8960 - val_loss: 0.4003 - val_accuracy: 0.8350\n",
      "Epoch 107/120\n",
      "313/313 [==============================] - 6s 18ms/step - loss: 0.2415 - accuracy: 0.8943 - val_loss: 0.4141 - val_accuracy: 0.8370\n",
      "Epoch 108/120\n",
      "313/313 [==============================] - 6s 18ms/step - loss: 0.2501 - accuracy: 0.8917 - val_loss: 0.4189 - val_accuracy: 0.8330\n",
      "Epoch 109/120\n",
      "313/313 [==============================] - 6s 18ms/step - loss: 0.2412 - accuracy: 0.8973 - val_loss: 0.4283 - val_accuracy: 0.8310\n",
      "Epoch 110/120\n",
      "313/313 [==============================] - 6s 18ms/step - loss: 0.2441 - accuracy: 0.8956 - val_loss: 0.4214 - val_accuracy: 0.8390\n",
      "Epoch 111/120\n",
      "313/313 [==============================] - 5s 17ms/step - loss: 0.2351 - accuracy: 0.8985 - val_loss: 0.4521 - val_accuracy: 0.8320\n",
      "Epoch 112/120\n",
      "313/313 [==============================] - 6s 18ms/step - loss: 0.2341 - accuracy: 0.8987 - val_loss: 0.4483 - val_accuracy: 0.8380\n",
      "Epoch 113/120\n"
     ]
    },
    {
     "name": "stdout",
     "output_type": "stream",
     "text": [
      "313/313 [==============================] - 6s 19ms/step - loss: 0.2383 - accuracy: 0.8970 - val_loss: 0.4186 - val_accuracy: 0.8390\n",
      "Epoch 114/120\n",
      "313/313 [==============================] - 6s 19ms/step - loss: 0.2390 - accuracy: 0.8987 - val_loss: 0.4341 - val_accuracy: 0.8370\n",
      "Epoch 115/120\n",
      "313/313 [==============================] - 6s 18ms/step - loss: 0.2330 - accuracy: 0.9020 - val_loss: 0.4502 - val_accuracy: 0.8370\n",
      "Epoch 116/120\n",
      "313/313 [==============================] - 5s 17ms/step - loss: 0.2373 - accuracy: 0.8991 - val_loss: 0.4400 - val_accuracy: 0.8320\n",
      "Epoch 117/120\n",
      "313/313 [==============================] - 6s 18ms/step - loss: 0.2302 - accuracy: 0.9002 - val_loss: 0.4429 - val_accuracy: 0.8380\n",
      "Epoch 118/120\n",
      "313/313 [==============================] - 6s 20ms/step - loss: 0.2318 - accuracy: 0.9053 - val_loss: 0.4658 - val_accuracy: 0.8310\n",
      "Epoch 119/120\n",
      "313/313 [==============================] - 7s 23ms/step - loss: 0.2339 - accuracy: 0.9008 - val_loss: 0.4183 - val_accuracy: 0.8370\n",
      "Epoch 120/120\n",
      "313/313 [==============================] - 6s 19ms/step - loss: 0.2292 - accuracy: 0.9048 - val_loss: 0.4315 - val_accuracy: 0.8330\n"
     ]
    }
   ],
   "source": [
    "# train\n",
    "history = model.fit([inputs_train, queries_train], answers_train,batch_size=32,epochs=120,validation_data=([inputs_test, queries_test], answers_test))"
   ]
  },
  {
   "cell_type": "markdown",
   "metadata": {},
   "source": [
    "### Saving the Model"
   ]
  },
  {
   "cell_type": "code",
   "execution_count": 61,
   "metadata": {},
   "outputs": [],
   "source": [
    "filename = 'chatbot_120_epochs_my.h5'\n",
    "model.save(filename)"
   ]
  },
  {
   "cell_type": "markdown",
   "metadata": {},
   "source": [
    "## Evaluating the Model\n",
    "\n",
    "### Plotting Out Training History"
   ]
  },
  {
   "cell_type": "code",
   "execution_count": 68,
   "metadata": {},
   "outputs": [
    {
     "name": "stdout",
     "output_type": "stream",
     "text": [
      "dict_keys(['loss', 'accuracy', 'val_loss', 'val_accuracy'])\n"
     ]
    },
    {
     "data": {
      "image/png": "[encoded data removed]",
      "text/plain": [
       "<Figure size 432x288 with 1 Axes>"
      ]
     },
     "metadata": {
      "needs_background": "light"
     },
     "output_type": "display_data"
    }
   ],
   "source": [
    "import matplotlib.pyplot as plt\n",
    "%matplotlib inline\n",
    "print(history.history.keys())\n",
    "# summarize history for accuracy\n",
    "plt.plot(history.history['accuracy'])\n",
    "plt.plot(history.history['val_accuracy'])\n",
    "plt.title('model accuracy')\n",
    "plt.ylabel('accuracy')\n",
    "plt.xlabel('epoch')\n",
    "plt.legend(['train', 'test'], loc='upper left')\n",
    "plt.show()"
   ]
  },
  {
   "cell_type": "markdown",
   "metadata": {},
   "source": [
    "### Evaluating on Given Test Set"
   ]
  },
  {
   "cell_type": "code",
   "execution_count": 69,
   "metadata": {},
   "outputs": [],
   "source": [
    "model.load_weights(filename)\n",
    "pred_results = model.predict(([inputs_test, queries_test]))"
   ]
  },
  {
   "cell_type": "code",
   "execution_count": 70,
   "metadata": {},
   "outputs": [
    {
     "data": {
      "text/plain": [
       "['Mary',\n",
       " 'got',\n",
       " 'the',\n",
       " 'milk',\n",
       " 'there',\n",
       " '.',\n",
       " 'John',\n",
       " 'moved',\n",
       " 'to',\n",
       " 'the',\n",
       " 'bedroom',\n",
       " '.']"
      ]
     },
     "execution_count": 70,
     "metadata": {},
     "output_type": "execute_result"
    }
   ],
   "source": [
    "test_data[0][0]"
   ]
  },
  {
   "cell_type": "code",
   "execution_count": 71,
   "metadata": {},
   "outputs": [
    {
     "name": "stdout",
     "output_type": "stream",
     "text": [
      "Mary got the milk there . John moved to the bedroom .\n"
     ]
    }
   ],
   "source": [
    "story =' '.join(word for word in test_data[0][0])\n",
    "print(story)"
   ]
  },
  {
   "cell_type": "code",
   "execution_count": 72,
   "metadata": {},
   "outputs": [
    {
     "name": "stdout",
     "output_type": "stream",
     "text": [
      "Is John in the kitchen ?\n"
     ]
    }
   ],
   "source": [
    "query = ' '.join(word for word in test_data[0][1])\n",
    "print(query)"
   ]
  },
  {
   "cell_type": "code",
   "execution_count": 73,
   "metadata": {},
   "outputs": [
    {
     "name": "stdout",
     "output_type": "stream",
     "text": [
      "True Test Answer from Data is: no\n"
     ]
    }
   ],
   "source": [
    "print(\"True Test Answer from Data is:\",test_data[0][2])"
   ]
  },
  {
   "cell_type": "code",
   "execution_count": 74,
   "metadata": {},
   "outputs": [
    {
     "name": "stdout",
     "output_type": "stream",
     "text": [
      "Predicted answer is:  no\n",
      "Probability of certainty was:  0.999997\n"
     ]
    }
   ],
   "source": [
    "#Generate prediction from model\n",
    "val_max = np.argmax(pred_results[0])\n",
    "\n",
    "for key, val in tokenizer.word_index.items():\n",
    "    if val == val_max:\n",
    "        k = key\n",
    "\n",
    "print(\"Predicted answer is: \", k)\n",
    "print(\"Probability of certainty was: \", pred_results[0][val_max])"
   ]
  },
  {
   "cell_type": "markdown",
   "metadata": {},
   "source": [
    "## Writing Your Own Stories and Questions\n",
    "\n",
    "Remember you can only use words from the existing vocab"
   ]
  },
  {
   "cell_type": "code",
   "execution_count": 75,
   "metadata": {},
   "outputs": [
    {
     "data": {
      "text/plain": [
       "{'.',\n",
       " '?',\n",
       " 'Daniel',\n",
       " 'Is',\n",
       " 'John',\n",
       " 'Mary',\n",
       " 'Sandra',\n",
       " 'apple',\n",
       " 'back',\n",
       " 'bathroom',\n",
       " 'bedroom',\n",
       " 'discarded',\n",
       " 'down',\n",
       " 'dropped',\n",
       " 'football',\n",
       " 'garden',\n",
       " 'got',\n",
       " 'grabbed',\n",
       " 'hallway',\n",
       " 'in',\n",
       " 'journeyed',\n",
       " 'kitchen',\n",
       " 'left',\n",
       " 'milk',\n",
       " 'moved',\n",
       " 'no',\n",
       " 'office',\n",
       " 'picked',\n",
       " 'put',\n",
       " 'the',\n",
       " 'there',\n",
       " 'to',\n",
       " 'took',\n",
       " 'travelled',\n",
       " 'up',\n",
       " 'went',\n",
       " 'yes'}"
      ]
     },
     "execution_count": 75,
     "metadata": {},
     "output_type": "execute_result"
    }
   ],
   "source": [
    "vocab"
   ]
  },
  {
   "cell_type": "code",
   "execution_count": 76,
   "metadata": {},
   "outputs": [
    {
     "data": {
      "text/plain": [
       "['John',\n",
       " 'left',\n",
       " 'the',\n",
       " 'kitchen',\n",
       " '.',\n",
       " 'Sandra',\n",
       " 'dropped',\n",
       " 'the',\n",
       " 'football',\n",
       " 'in',\n",
       " 'the',\n",
       " 'garden',\n",
       " '.']"
      ]
     },
     "execution_count": 76,
     "metadata": {},
     "output_type": "execute_result"
    }
   ],
   "source": [
    "# Note the whitespace of the periods\n",
    "my_story = \"John left the kitchen . Sandra dropped the football in the garden .\"\n",
    "my_story.split()"
   ]
  },
  {
   "cell_type": "code",
   "execution_count": 77,
   "metadata": {},
   "outputs": [],
   "source": [
    "my_question = \"Is the football in the garden ?\""
   ]
  },
  {
   "cell_type": "code",
   "execution_count": 78,
   "metadata": {},
   "outputs": [
    {
     "data": {
      "text/plain": [
       "['Is', 'the', 'football', 'in', 'the', 'garden', '?']"
      ]
     },
     "execution_count": 78,
     "metadata": {},
     "output_type": "execute_result"
    }
   ],
   "source": [
    "my_question.split()"
   ]
  },
  {
   "cell_type": "code",
   "execution_count": 79,
   "metadata": {},
   "outputs": [],
   "source": [
    "mydata = [(my_story.split(),my_question.split(),'yes')]"
   ]
  },
  {
   "cell_type": "code",
   "execution_count": 80,
   "metadata": {},
   "outputs": [],
   "source": [
    "my_story,my_ques,my_ans = vectorize_stories(mydata)"
   ]
  },
  {
   "cell_type": "code",
   "execution_count": 81,
   "metadata": {},
   "outputs": [],
   "source": [
    "pred_results = model.predict(([ my_story, my_ques]))"
   ]
  },
  {
   "cell_type": "code",
   "execution_count": 82,
   "metadata": {},
   "outputs": [
    {
     "name": "stdout",
     "output_type": "stream",
     "text": [
      "Predicted answer is:  yes\n",
      "Probability of certainty was:  0.9654305\n"
     ]
    }
   ],
   "source": [
    "#Generate prediction from model\n",
    "val_max = np.argmax(pred_results[0])\n",
    "\n",
    "for key, val in tokenizer.word_index.items():\n",
    "    if val == val_max:\n",
    "        k = key\n",
    "\n",
    "print(\"Predicted answer is: \", k)\n",
    "print(\"Probability of certainty was: \", pred_results[0][val_max])"
   ]
  },
  {
   "cell_type": "markdown",
   "metadata": {},
   "source": [
    "# Great Job!"
   ]
  },
  {
   "cell_type": "code",
   "execution_count": null,
   "metadata": {},
   "outputs": [],
   "source": []
  }
 ],
 "metadata": {
  "kernelspec": {
   "display_name": "Python 3 (ipykernel)",
   "language": "python",
   "name": "python3"
  },
  "language_info": {
   "codemirror_mode": {
    "name": "ipython",
    "version": 3
   },
   "file_extension": ".py",
   "mimetype": "text/x-python",
   "name": "python",
   "nbconvert_exporter": "python",
   "pygments_lexer": "ipython3",
   "version": "3.8.11"
  }
 },
 "nbformat": 4,
 "nbformat_minor": 2
}
